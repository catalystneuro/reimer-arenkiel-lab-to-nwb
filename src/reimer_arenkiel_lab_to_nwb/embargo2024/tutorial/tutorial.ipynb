{
 "cells": [
  {
   "cell_type": "markdown",
   "id": "6242b563-faf9-411b-b61e-ff6d5d802609",
   "metadata": {},
   "source": [
    "# Tutorial for Mesoscale Two-Photon Calcium Imaging of Population Level Odor Responses from the Mouse Olfactory Bulb. \n",
    "\n",
    "This tutorial shows how to access the data related to [DANDI:001170](https://dandiarchive.org/dandiset/001170/draft) using `pynwb`. \n",
    "\n",
    "This dataset contains the 2-photon calcium imaging, treadmill position and velocity traces and odor stimulus events, along with subject and session metadata.\n",
    "\n",
    "Contents:\n",
    "\n",
    "- [Streaming an NWB file](#stream-nwb)\n",
    "- [Reading an NWB file](#read-nwb)\n",
    "- [Access Subject and Session metadata](#access-subject)\n",
    "- [Access Raw Imaging](#access-raw-imaging)\n",
    "- [Access Processed Imaging](#access-raw-imaging)\n",
    "- [Access Odor Stimuli](#access-odor)\n",
    "- [Access Treadmill traces](#access-treadmill)\n",
    "\n",
    "A schematic representation where the source data is saved in NWB:\n",
    "\n",
    "![Alt text](./conversion_outline_diagram.png)"
   ]
  },
  {
   "metadata": {},
   "cell_type": "markdown",
   "source": "# Select the subject and session you want to load",
   "id": "45b8784857f90cc3"
  },
  {
   "metadata": {},
   "cell_type": "code",
   "source": [
    "subject_id = 134\n",
    "session_id = 22\n",
    "nwbfile_path = f\"sub-{subject_id}/sub-{subject_id}_ses-{session_id}_behavior+ophys.nwb\""
   ],
   "id": "15fac2a0f52cac67",
   "outputs": [],
   "execution_count": null
  },
  {
   "metadata": {},
   "cell_type": "markdown",
   "source": [
    "# Streaming an NWB file <a id=\"stream-nwb\"></a>\n",
    "\n",
    "This section demonstrates how to access the files on the [DANDI Archive](https://dandiarchive.org) without downloading them. Based on the [Streaming NWB files](https://pynwb.readthedocs.io/en/stable/tutorials/advanced_io/streaming.html) tutorial from [PyNWB](https://pynwb.readthedocs.io/en/stable/#).\n",
    "\n",
    "The `dandi.dandiapi.DandiAPIClient` can be used to get the S3 URL of the NWB file stored in the DANDI Archive."
   ],
   "id": "394331a1c951ecd3"
  },
  {
   "metadata": {},
   "cell_type": "code",
   "source": [
    "from dandi.dandiapi import DandiAPIClient\n",
    "\n",
    "dandiset_id = \"001170\"\n",
    "\n",
    "with DandiAPIClient() as client:\n",
    "    client.dandi_authenticate() #This line is necessary because the dataset is in embargoed mode and only owners can view the data, once it will be published this line can be removed.\n",
    "    asset = client.get_dandiset(dandiset_id, 'draft').get_asset_by_path(nwbfile_path)\n",
    "    s3_url = asset.get_content_url(follow_redirects=1, strip_query=False)\n"
   ],
   "id": "3824ea857ca945be",
   "outputs": [],
   "execution_count": null
  },
  {
   "metadata": {},
   "cell_type": "markdown",
   "source": "We will use `remfile` for streaming the file. You can read more about `remfile` at [this tutorial section](https://pynwb.readthedocs.io/en/stable/tutorials/advanced_io/streaming.html#method-3-remfile).",
   "id": "a6e110b429353677"
  },
  {
   "metadata": {},
   "cell_type": "code",
   "source": [
    "import h5py\n",
    "import remfile\n",
    "\n",
    "file = remfile.File(s3_url)\n",
    "h5_file = h5py.File(file, \"r\")"
   ],
   "id": "3baa58089d35d72",
   "outputs": [],
   "execution_count": null
  },
  {
   "cell_type": "markdown",
   "id": "6bc8942c-2b51-4bd9-9e87-51cdd58f25ef",
   "metadata": {},
   "source": [
    "# Reading an NWB file <a name=\"read-nwb\"></a>\n",
    "\n",
    "This section demonstrates how to read an NWB file using `pynwb`.\n",
    "\n",
    "Based on the [NWB File Basics](https://pynwb.readthedocs.io/en/stable/tutorials/general/plot_file.html#sphx-glr-tutorials-general-plot-file-py) tutorial from [PyNWB](https://pynwb.readthedocs.io/en/stable/#).\n",
    "\n",
    "An [NWBFile](https://pynwb.readthedocs.io/en/stable/pynwb.file.html#pynwb.file.NWBFile) represents a single session of an experiment. Each NWBFile must have a `session description`, `identifier`, and `session start time`.\n",
    "\n",
    "Reading is carried out using the [NWBHDF5IO](https://pynwb.readthedocs.io/en/stable/pynwb.html#pynwb.NWBHDF5IO) class. To read the NWB file use the read mode (\"r\") to retrieve an NWBFile object.\n"
   ]
  },
  {
   "cell_type": "code",
   "id": "b2968627-3cdd-4c65-825c-4e239cf9a5ea",
   "metadata": {},
   "source": [
    "from pynwb import NWBHDF5IO\n",
    "io = NWBHDF5IO(file=h5_file, load_namespaces=True)\n",
    "nwbfile = io.read()\n",
    "nwbfile"
   ],
   "outputs": [],
   "execution_count": null
  },
  {
   "cell_type": "markdown",
   "id": "8b25d9c7-83c0-4992-8bb5-2548f08bb28a",
   "metadata": {},
   "source": [
    "Importantly, the `session start time` is the reference time for all timestamps in the file. For instance, an event with a timestamp of 0 in the file means the event occurred exactly at the session start time.\n",
    "\n",
    "The `session_start_time` is extracted from all_sessions.Session datajoint table."
   ]
  },
  {
   "cell_type": "code",
   "id": "52016578-44c1-4a75-b615-ec85d8463c4a",
   "metadata": {},
   "source": [
    "nwbfile.session_start_time"
   ],
   "outputs": [],
   "execution_count": null
  },
  {
   "metadata": {},
   "cell_type": "markdown",
   "source": "The experimenta description or the session description ccan be easly access with `nwbfile.experiment_description` and `nwbfile.session_description` ",
   "id": "8e95535a88b1b046"
  },
  {
   "metadata": {},
   "cell_type": "code",
   "source": "nwbfile.experiment_description",
   "id": "92650055f9f32652",
   "outputs": [],
   "execution_count": null
  },
  {
   "metadata": {},
   "cell_type": "code",
   "source": "nwbfile.session_description",
   "id": "ecfbc9a8f261aa82",
   "outputs": [],
   "execution_count": null
  },
  {
   "cell_type": "markdown",
   "id": "8d247090-5cfb-47b1-a1a4-8a7c87921a38",
   "metadata": {},
   "source": [
    "# Access subject <a name=\"access-subject\"></a>\n",
    "\n",
    "This section demonstrates how to access the [Subject](https://pynwb.readthedocs.io/en/stable/pynwb.file.html#pynwb.file.Subject) field in an NWB file.\n",
    "\n",
    "The [Subject](https://pynwb.readthedocs.io/en/stable/pynwb.file.html#pynwb.file.Subject) field can be accessed as `nwbfile.subject`.\n"
   ]
  },
  {
   "cell_type": "code",
   "id": "483b9a74-c5f0-4f59-b422-1a3a7a9c5002",
   "metadata": {},
   "source": [
    "nwbfile.subject"
   ],
   "outputs": [],
   "execution_count": null
  },
  {
   "cell_type": "markdown",
   "id": "fdc72048-3dc7-4b35-a411-e5507176ef35",
   "metadata": {},
   "source": [
    "# Access TwoPhoton Imaging\n",
    "\n",
    "This section demonstraces how to access the raw Two Photon imaging data.\n",
    "\n",
    "`NWB` organizes data into different groups depending on the type of data. Groups can be thought of as folders within the file. Here are some of the groups within an NWBFile and the types of data they are intended to store:\n",
    "\n",
    "- `acquisition`: raw, acquired data that should never change\n",
    "- `processing`: processed data, typically the results of preprocessing algorithms and could change\n",
    "\n",
    "## Raw TwoPhoton Imaging <a name=\"access-imaging\"></a>\n",
    "\n",
    "The raw TwoPhoton imaging data is stored in `pynwb.ophys.TwoPhotonSeries` objects (for each channel and plane separately) which is added to `nwbfile.acquisition`.\n",
    "\n",
    "The data in [TwoPhotonSeries](https://pynwb.readthedocs.io/en/stable/pynwb.ophys.html#pynwb.ophys.TwoPhotonSeries) is stored as a three dimensional array: the first dimension is time (frame), the second and third dimensions represent x and y (width by height). "
   ]
  },
  {
   "cell_type": "code",
   "id": "7f95b465",
   "metadata": {},
   "source": [
    "photon_series_names = [photon_series_name for photon_series_name in nwbfile.acquisition.keys() if \"two_photon_series\" in photon_series_name]\n",
    "print(photon_series_names)"
   ],
   "outputs": [],
   "execution_count": null
  },
  {
   "cell_type": "code",
   "id": "1ef00fe3-cb56-4efe-89bb-946bb9bc42b5",
   "metadata": {},
   "source": [
    "# Visualize the imaging data.\n",
    "from matplotlib import pyplot as plt\n",
    "fig, axs = plt.subplots(nrows=len(photon_series_names), ncols=1, sharex=True, sharey=True)\n",
    "for ps_index,ps_name in enumerate(photon_series_names):    \n",
    "    photon_series = nwbfile.acquisition[ps_name]\n",
    "    axs[ps_index].imshow(photon_series.data[70], cmap=\"binary\")\n",
    "    axs[ps_index].set_title(ps_name.replace(\"_\",\" \"))\n",
    "plt.show()\n"
   ],
   "outputs": [],
   "execution_count": null
  },
  {
   "metadata": {},
   "cell_type": "markdown",
   "source": "Imaging metadata include information on the **device** used to acquire the image and the **optical channel** specs contained in the imaging plane object",
   "id": "c71683be17183f44"
  },
  {
   "metadata": {},
   "cell_type": "code",
   "source": "nwbfile.devices[\"two_photon_microscope\"]",
   "id": "cbe2cadedef5829b",
   "outputs": [],
   "execution_count": null
  },
  {
   "metadata": {},
   "cell_type": "code",
   "source": "nwbfile.imaging_planes[\"imaging_plane_channel1\"]",
   "id": "d12c7cd5f9c31c24",
   "outputs": [],
   "execution_count": null
  },
  {
   "cell_type": "markdown",
   "id": "087d0ef1-a474-48fc-9106-3a80a188834a",
   "metadata": {},
   "source": [
    "## Accessing the segmentation data\n",
    "\n",
    "The segmentation output for the Two Photon Imaging data is stored in `nwbfile.processing[\"ophys\"]`. \n",
    "\n",
    "In NWB, the [PlaneSegmentation](https://pynwb.readthedocs.io/en/stable/pynwb.ophys.html#pynwb.ophys.PlaneSegmentation) class stores the detected regions of interest in the [TwoPhotonSeries](https://pynwb.readthedocs.io/en/stable/pynwb.ophys.html#pynwb.ophys.TwoPhotonSeries) data. The [ImageSegmentation](https://pynwb.readthedocs.io/en/stable/pynwb.ophys.html#pynwb.ophys.ImageSegmentation) can contain multiple `PlaneSegmentation` tables, so that we can store results of different segmentation algorithms or different segmentation classes.\n",
    "\n",
    "We can access the plane segmentation for the [TwoPhotonSeries](https://pynwb.readthedocs.io/en/stable/pynwb.ophys.html#pynwb.ophys.TwoPhotonSeries) data as \n",
    "`nwbfile.processing[\"ophys\"][\"ImageSegmentation\"][\"PlaneSegmentationChannel_number_Plane_number_\"]`.\n"
   ]
  },
  {
   "metadata": {},
   "cell_type": "code",
   "source": "nwbfile.processing[\"ophys\"]",
   "id": "178571ee71b07c01",
   "outputs": [],
   "execution_count": null
  },
  {
   "metadata": {},
   "cell_type": "markdown",
   "source": "#### Plot Correlation Images",
   "id": "56b55f2237e35651"
  },
  {
   "metadata": {},
   "cell_type": "code",
   "source": [
    "correlation_images_names = list(nwbfile.processing[\"ophys\"][\"correlation_images\"].images.keys())\n",
    "_ = [print(name) for name in correlation_images_names]"
   ],
   "id": "5d2784fd6fc1a94b",
   "outputs": [],
   "execution_count": null
  },
  {
   "metadata": {},
   "cell_type": "code",
   "source": [
    "fig, axs = plt.subplots(nrows=len(correlation_images_names), ncols=1, sharex=True, sharey=True)\n",
    "for ci_index,ci_name in enumerate(correlation_images_names):    \n",
    "    correlation_image = nwbfile.processing[\"ophys\"][\"correlation_images\"].images[ci_name]\n",
    "    axs[ci_index].imshow(correlation_image.data[:].T, cmap=\"binary\")\n",
    "    axs[ci_index].set_title(ci_name.replace(\"_\",\" \"))\n",
    "plt.show()"
   ],
   "id": "fe82c855737e10fd",
   "outputs": [],
   "execution_count": null
  },
  {
   "metadata": {},
   "cell_type": "markdown",
   "source": "#### Plot Average Images",
   "id": "c58b76dd6fc2fd03"
  },
  {
   "cell_type": "code",
   "id": "97233187",
   "metadata": {},
   "source": [
    "average_images_names = list(nwbfile.processing[\"ophys\"][\"average_images\"].images.keys())\n",
    "_ = [print(name) for name in average_images_names]"
   ],
   "outputs": [],
   "execution_count": null
  },
  {
   "metadata": {},
   "cell_type": "code",
   "source": [
    "fig, axs = plt.subplots(nrows=len(average_images_names), ncols=1, sharex=True, sharey=True)\n",
    "for ai_index,ai_name in enumerate(average_images_names):    \n",
    "    average_image = nwbfile.processing[\"ophys\"][\"average_images\"].images[ai_name]\n",
    "    axs[ai_index].imshow(average_image.data[:].T, cmap=\"binary\")\n",
    "    axs[ai_index].set_title(ai_name.replace(\"_\",\" \"))\n",
    "plt.show()"
   ],
   "id": "fbc450b2c9e23479",
   "outputs": [],
   "execution_count": null
  },
  {
   "metadata": {},
   "cell_type": "markdown",
   "source": "#### Plot Image Segmentation",
   "id": "e001e7a7843982a7"
  },
  {
   "metadata": {},
   "cell_type": "code",
   "source": [
    "plane_segmentation_names = list(nwbfile.processing[\"ophys\"][\"image_segmentation\"].plane_segmentations.keys())\n",
    "_ = [print(name) for name in nwbfile.processing[\"ophys\"][\"image_segmentation\"].plane_segmentations.keys()]"
   ],
   "id": "60befc574ae2e6ea",
   "outputs": [],
   "execution_count": null
  },
  {
   "metadata": {},
   "cell_type": "code",
   "source": [
    "ROI_index = 0\n",
    "\n",
    "fig, axs = plt.subplots(nrows=len(plane_segmentation_names), ncols=1, sharex=True, sharey=True)\n",
    "for ps_index,ps_name in enumerate(plane_segmentation_names):    \n",
    "    average_image = nwbfile.processing[\"ophys\"][\"average_images\"].images[average_images_names[ps_index]]\n",
    "    axs[ps_index].imshow(average_image.data[:].T, cmap=\"binary\")\n",
    "    plane_segmentation = nwbfile.processing[\"ophys\"][\"image_segmentation\"].plane_segmentations[ps_name]\n",
    "    x_coordinates = [pix[0] for pix in plane_segmentation[ROI_index].pixel_mask[0]]\n",
    "    y_coordinates = [pix[1] for pix in plane_segmentation[ROI_index].pixel_mask[0]]\n",
    "    axs[ps_index].scatter(x_coordinates, y_coordinates, color=\"green\")\n",
    "    axs[ps_index].set_title(ps_name.replace(\"_\",\" \"))\n",
    "plt.show()"
   ],
   "id": "71d7c0d89e7377",
   "outputs": [],
   "execution_count": null
  },
  {
   "cell_type": "markdown",
   "id": "291ad594-cced-46c1-80aa-3c3c13cc9d7c",
   "metadata": {},
   "source": [
    "## Visualize fluorescence traces\n",
    "The fluroscence traces are stored in a [Fluorescence](https://pynwb.readthedocs.io/en/stable/pynwb.ophys.html#pynwb.ophys.Fluorescence) container, the raw traces can be accessed as `nwbfile.processing[\"ophys\"][\"Fluorescence\"][\"RoiResponseSeries\"]`."
   ]
  },
  {
   "cell_type": "code",
   "id": "a24dc36b-a2e5-43d1-989e-f18735c4afaa",
   "metadata": {},
   "source": [
    "import pandas as pd\n",
    "import warnings\n",
    "warnings.simplefilter(action='ignore', category=pd.errors.PerformanceWarning)\n",
    "\n",
    "fluorescence_traces_names = [name for name in nwbfile.processing[\"ophys\"][\"fluorescence\"].roi_response_series.keys()]\n",
    "\n",
    "fluorescence_traces_name = fluorescence_traces_names[0]\n",
    "fluorescence_traces = nwbfile.processing[\"ophys\"][\"fluorescence\"][fluorescence_traces_name].data[:1000, :10]\n",
    "df = pd.DataFrame(fluorescence_traces)\n",
    "df[\"time\"] = nwbfile.processing[\"ophys\"][\"fluorescence\"][fluorescence_traces_name].timestamps[:1000]\n",
    "df.set_index(\"time\", inplace=True)\n",
    "df.columns.name = 'ROIs'\n",
    "\n",
    "import plotly.express as px\n",
    "\n",
    "fig = px.line(df, facet_row=\"ROIs\", facet_row_spacing=0.01)\n",
    "\n",
    "# hide and lock down axes\n",
    "fig.update_xaxes(visible=True, fixedrange=False)\n",
    "fig.update_yaxes(visible=False, fixedrange=False)\n",
    "\n",
    "# remove facet/subplot labels\n",
    "fig.update_layout(annotations=[], overwrite=True)\n",
    "\n",
    "# strip down the rest of the plot\n",
    "fig.update_layout(\n",
    "    showlegend=True,\n",
    "    plot_bgcolor=\"white\",\n",
    "    margin=dict(t=10, l=10, b=10, r=10)\n",
    ")\n",
    "\n",
    "fig.show(config=dict(displayModeBar=True))"
   ],
   "outputs": [],
   "execution_count": null
  },
  {
   "cell_type": "markdown",
   "id": "ce538054-666b-4ad1-9d34-f9730973b3ff",
   "metadata": {},
   "source": [
    "# Access Odor stimuli <a name=\"access-odor\"></a>\n",
    "\n",
    "This section demonstrates how to access the odor stimulation data and metadata.\n"
   ]
  },
  {
   "cell_type": "code",
   "id": "6c899439-be9f-4187-bc02-b6c9cb2491c3",
   "metadata": {},
   "source": "nwbfile.trials.to_dataframe()",
   "outputs": [],
   "execution_count": null
  },
  {
   "cell_type": "code",
   "id": "3f232537",
   "metadata": {},
   "source": [
    "# Prepare data for plotting\n",
    "import numpy as np\n",
    "ROI_index=0\n",
    "start=0\n",
    "stop=-1\n",
    "fluorescence_data = nwbfile.processing[\"ophys\"][\"fluorescence\"][fluorescence_traces_name].data[start:stop, ROI_index]\n",
    "fluorescence_timestamps = nwbfile.processing[\"ophys\"][\"fluorescence\"][fluorescence_traces_name].timestamps[start:stop]\n",
    "\n",
    "fig, ax = plt.subplots(figsize=(6, 2), dpi=300)\n",
    "line_handle, = ax.plot(fluorescence_timestamps, fluorescence_data, color=\"green\", linewidth=0.5, label=\"ROI {ROI_index}\".format(ROI_index=ROI_index))\n",
    "\n",
    "stimulus_table = nwbfile.trials.to_dataframe()\n",
    "methyl_salicylate_stim = \"Methyl Salicylate\"\n",
    "methyl_salicylate_stim_table = stimulus_table[stimulus_table[\"odorant\"]==methyl_salicylate_stim]\n",
    "methyl_salicylate_stim_handles = []\n",
    "for (stimulus_start, stimulus_stop) in zip(methyl_salicylate_stim_table[\"start_time\"], methyl_salicylate_stim_table[\"stop_time\"]):\n",
    "    methyl_salicylate_stim_handle = ax.fill_between(fluorescence_timestamps, np.nanmax(fluorescence_data), where=(fluorescence_timestamps >= stimulus_start) & (fluorescence_timestamps <= stimulus_stop),\n",
    "                                    color='yellow', edgecolor='none', alpha=0.9, label=methyl_salicylate_stim)\n",
    "    methyl_salicylate_stim_handles.append(methyl_salicylate_stim_handle)\n",
    "\n",
    "allyl_sulfide_stim = \"Allyl Sulfide\"\n",
    "allyl_sulfide_stim_table = stimulus_table[stimulus_table[\"odorant\"]==allyl_sulfide_stim]\n",
    "allyl_sulfide_stim_handles = []\n",
    "for (stimulus_start, stimulus_stop) in zip(allyl_sulfide_stim_table[\"start_time\"], allyl_sulfide_stim_table[\"stop_time\"]):\n",
    "    allyl_sulfide_stim_handle = ax.fill_between(fluorescence_timestamps, np.nanmax(fluorescence_data), where=(fluorescence_timestamps >= stimulus_start) & (fluorescence_timestamps <= stimulus_stop),\n",
    "                                    color='blue', edgecolor='none', alpha=0.9, label=allyl_sulfide_stim)\n",
    "    allyl_sulfide_stim_handles.append(allyl_sulfide_stim_handle)\n",
    "\n",
    "# Hide top and right spines\n",
    "ax.spines['top'].set_visible(False)\n",
    "ax.spines['right'].set_visible(False)\n",
    "\n",
    "# Create the legend with the appropriate handles\n",
    "handles = [line_handle, methyl_salicylate_stim_handles[0], allyl_sulfide_stim_handles[0]]\n",
    "labels = [\"ROI {ROI_index}\".format(ROI_index=ROI_index), methyl_salicylate_stim, allyl_sulfide_stim]\n",
    "ax.legend(handles, labels, frameon=False, bbox_to_anchor=(.95, 1), loc='upper left', prop={'size': 8})\n",
    "\n",
    "ax.tick_params(axis='y', labelsize=8)\n",
    "plt.xlabel('Time (s)', fontsize=8)\n",
    "plt.tick_params(axis='x', labelsize=8)\n",
    "plt.show()"
   ],
   "outputs": [],
   "execution_count": null
  },
  {
   "cell_type": "markdown",
   "id": "b50a377e",
   "metadata": {},
   "source": [
    "# Access Treadmill Traces <a name=\"access-treadmill\"></a>\n",
    "\n",
    "This section demonstrates how to access the treadmill data."
   ]
  },
  {
   "cell_type": "code",
   "id": "362ba78b",
   "metadata": {},
   "source": "nwbfile.acquisition[\"treadmill_position\"]",
   "outputs": [],
   "execution_count": null
  },
  {
   "metadata": {},
   "cell_type": "code",
   "source": [
    "start=0\n",
    "stop=-1\n",
    "treadmill_data = nwbfile.acquisition[\"treadmill_position\"].data[start:stop]\n",
    "treadmill_timestamps = nwbfile.acquisition[\"treadmill_position\"].timestamps[start:stop]\n",
    "\n",
    "fig, ax = plt.subplots(figsize=(6, 2), dpi=300)\n",
    "ax.plot(treadmill_timestamps, treadmill_data, color=\"red\", linewidth=0.5, label=\"treadmill position\")\n",
    "\n",
    "# Hide top and right spines\n",
    "ax.spines['top'].set_visible(False)\n",
    "ax.spines['right'].set_visible(False)\n",
    "\n",
    "# Create the \n",
    "ax.legend(frameon=False, bbox_to_anchor=(.95, 1), loc='upper left', prop={'size': 8})\n",
    "\n",
    "ax.tick_params(axis='y', labelsize=8)\n",
    "plt.xlabel('Time (s)', fontsize=8)\n",
    "plt.tick_params(axis='x', labelsize=8)\n",
    "plt.show()"
   ],
   "id": "a7837b0f245a9b9e",
   "outputs": [],
   "execution_count": null
  },
  {
   "cell_type": "code",
   "id": "ce2b8da7",
   "metadata": {},
   "source": "nwbfile.processing[\"behavior\"][\"treadmill_velocity\"]",
   "outputs": [],
   "execution_count": null
  },
  {
   "metadata": {},
   "cell_type": "code",
   "source": [
    "data = nwbfile.processing[\"behavior\"][\"treadmill_velocity\"].data[start:stop]\n",
    "treadmill_timestamps = nwbfile.acquisition[\"treadmill_position\"].timestamps[start:stop]\n",
    "\n",
    "fig, ax = plt.subplots(figsize=(6, 2), dpi=300)\n",
    "ax.plot(fluorescence_timestamps, fluorescence_data, linewidth=0.5, label=\"fluorescence trace\")\n",
    "ax.plot(treadmill_timestamps, data*25, linewidth=0.5, label=\"treadmill velocity\")\n",
    "\n",
    "# Hide top and right spines\n",
    "ax.spines['top'].set_visible(False)\n",
    "ax.spines['right'].set_visible(False)\n",
    "\n",
    "# Create the \n",
    "ax.legend(frameon=False, bbox_to_anchor=(.95, 1), loc='upper left', prop={'size': 8})\n",
    "\n",
    "ax.tick_params(axis='y', labelsize=8)\n",
    "plt.xlabel('Time (s)', fontsize=8)\n",
    "plt.tick_params(axis='x', labelsize=8)\n",
    "plt.show()"
   ],
   "id": "9a63a39f5e099fb8",
   "outputs": [],
   "execution_count": null
  },
  {
   "metadata": {},
   "cell_type": "code",
   "source": "",
   "id": "2dca4a8468c2c474",
   "outputs": [],
   "execution_count": null
  }
 ],
 "metadata": {
  "kernelspec": {
   "display_name": "reimer_arenkiel_lab_to_nwb_env",
   "language": "python",
   "name": "reimer_arenkiel_lab_to_nwb_env"
  },
  "language_info": {
   "codemirror_mode": {
    "name": "ipython",
    "version": 3
   },
   "file_extension": ".py",
   "mimetype": "text/x-python",
   "name": "python",
   "nbconvert_exporter": "python",
   "pygments_lexer": "ipython3",
   "version": "3.10.12"
  }
 },
 "nbformat": 4,
 "nbformat_minor": 5
}
